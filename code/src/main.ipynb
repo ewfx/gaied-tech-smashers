{
 "cells": [
  {
   "cell_type": "code",
   "execution_count": 1,
   "metadata": {},
   "outputs": [],
   "source": [
    "# from read_files import *\n",
    "import os\n",
    "from tika import parser\n",
    "import time\n",
    "import os, psutil"
   ]
  },
  {
   "cell_type": "code",
   "execution_count": 2,
   "metadata": {},
   "outputs": [],
   "source": [
    "#Read file content from tika OCR \n",
    "def read_file(file_path):\n",
    "    try:\n",
    "        raw = parser.from_file(file_path)\n",
    "        return raw['content']\n",
    "    except Exception as e:\n",
    "        return f\"Error processing {file_path}: {str(e)}\"\n",
    " "
   ]
  },
  {
   "cell_type": "code",
   "execution_count": 3,
   "metadata": {},
   "outputs": [],
   "source": [
    "#read all file in folder with given extension\n",
    "def read_files_in_folder(folder_path,file_extension):\n",
    "    supported_extensions = file_extension\n",
    "    results = {}\n",
    "\n",
    "    for dirpath, dirnames, filenames in os.walk(folder_path):\n",
    "        for filename in filenames:\n",
    "            #print(filename)\n",
    "            if filename.lower().endswith(supported_extensions):\n",
    "                #print(filename)\n",
    "                file_path = os.path.join(dirpath, filename)\n",
    "                content = read_file(file_path)\n",
    "                results[filename] = content\n",
    "    return results"
   ]
  },
  {
   "cell_type": "code",
   "execution_count": 4,
   "metadata": {},
   "outputs": [],
   "source": [
    "\n",
    "def get_file_contents(folder_path,file_extension):\n",
    "    start = time.time()\n",
    "    path = folder_path\n",
    "    extension=file_extension\n",
    "    #extension=extensions\n",
    "    if not os.path.isdir(folder_path):\n",
    "        print(\"The specified path is not a valid directory.\")\n",
    "    else:\n",
    "        file_contents = read_files_in_folder(path,extension)\n",
    "    end = time.time()\n",
    "    print(psutil.Process(os.getpid()).memory_info().rss / 1024 ** 2)\n",
    "    # total time taken\n",
    "    print(\"Runtime of the program is\", {end - start})\n",
    "    return file_contents\n",
    "        "
   ]
  },
  {
   "cell_type": "code",
   "execution_count": 5,
   "metadata": {},
   "outputs": [],
   "source": [
    "#defining input file directory\n",
    "input_file_directory='C:\\\\Users\\\\Venkat\\\\CodeSmashersCode\\\\gaied-tech-smashers\\\\data'\n",
    "\n",
    "#give list of extension of files\n",
    "extensions_of_file=('.eml')"
   ]
  },
  {
   "cell_type": "code",
   "execution_count": 6,
   "metadata": {},
   "outputs": [
    {
     "name": "stderr",
     "output_type": "stream",
     "text": [
      "2025-03-24 15:45:01,508 [MainThread  ] [WARNI]  Failed to see startup log message; retrying...\n",
      "2025-03-24 15:45:06,517 [MainThread  ] [WARNI]  Failed to see startup log message; retrying...\n"
     ]
    },
    {
     "name": "stdout",
     "output_type": "stream",
     "text": [
      "76.06640625\n",
      "Runtime of the program is {14.23000192642212}\n"
     ]
    }
   ],
   "source": [
    "\n",
    "# getting contents of all files : Input format (input folder directory where files/folders are kept, extensions of the files to extract.)\n",
    "file_contents_pdf=get_file_contents(input_file_directory,extensions_of_file)\n"
   ]
  },
  {
   "cell_type": "code",
   "execution_count": null,
   "metadata": {},
   "outputs": [
    {
     "name": "stdout",
     "output_type": "stream",
     "text": [
      "76.07421875\n",
      "Runtime of the program is {0.039832353591918945}\n"
     ]
    }
   ],
   "source": [
    "\n",
    "# getting contents of all files : Input format (input folder directory where files/folders are kept, extensions of the files to extract.)\n",
    "file_contents_pdf=get_file_contents(input_file_directory,extensions_of_file)\n"
   ]
  },
  {
   "cell_type": "code",
   "execution_count": 8,
   "metadata": {},
   "outputs": [
    {
     "name": "stdout",
     "output_type": "stream",
     "text": [
      "{'Transfer Request_ AU 1234567890.eml': '\\n\\n\\n\\n\\n\\n\\n\\n\\n\\n\\n\\n\\n\\n\\n\\n\\n\\n\\nTransfer Request: AU 1234567890\\n\\nDear Team,\\n\\nI am writing to request an AU Transfer for the following:\\n\\n\\t\\t\\nAccount Name/Number: 1234567890\\n\\n\\n\\n\\n\\t\\t\\nTransfer Amount:\\xa0100000\\n\\n\\n\\n\\n\\t\\t\\nReason for Transfer: Location changed\\n\\n\\n\\n\\n\\t\\t\\nEffective Date:\\xa024-03-2025\\n\\n\\n\\n\\n\\n\\nPlease confirm the completion of this request or let me know if additional details are needed.\\n\\n\\n\\n\\n\\n\\n\\nBest regards,\\n\\nLisa.\\n\\n\\n\\n'}\n"
     ]
    }
   ],
   "source": [
    "print(file_contents_pdf)"
   ]
  },
  {
   "cell_type": "code",
   "execution_count": null,
   "metadata": {},
   "outputs": [],
   "source": []
  }
 ],
 "metadata": {
  "kernelspec": {
   "display_name": "base",
   "language": "python",
   "name": "python3"
  },
  "language_info": {
   "codemirror_mode": {
    "name": "ipython",
    "version": 3
   },
   "file_extension": ".py",
   "mimetype": "text/x-python",
   "name": "python",
   "nbconvert_exporter": "python",
   "pygments_lexer": "ipython3",
   "version": "3.11.5"
  }
 },
 "nbformat": 4,
 "nbformat_minor": 2
}
